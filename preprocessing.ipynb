{
 "cells": [
  {
   "cell_type": "code",
   "execution_count": 1,
   "metadata": {},
   "outputs": [
    {
     "name": "stderr",
     "output_type": "stream",
     "text": [
      "2024-03-28 21:35:25.436224: I tensorflow/core/platform/cpu_feature_guard.cc:210] This TensorFlow binary is optimized to use available CPU instructions in performance-critical operations.\n",
      "To enable the following instructions: AVX2 AVX512F AVX512_VNNI FMA, in other operations, rebuild TensorFlow with the appropriate compiler flags.\n"
     ]
    }
   ],
   "source": [
    "from tensorflow.keras.preprocessing.image import ImageDataGenerator\n",
    "import pandas as pd\n",
    "import os\n",
    "import matplotlib.pyplot as plt"
   ]
  },
  {
   "cell_type": "code",
   "execution_count": 2,
   "metadata": {},
   "outputs": [],
   "source": [
    "df = pd.read_csv('NeedsRespray/Labels-NeedsRespray-2024-03-26.csv')\n",
    "df['Needs Respray'] = df['Needs Respray'].map({'Yes': 1, 'No': 0})"
   ]
  },
  {
   "cell_type": "code",
   "execution_count": 3,
   "metadata": {},
   "outputs": [],
   "source": [
    "datagen = ImageDataGenerator(\n",
    "    rescale=1./255,\n",
    "    rotation_range=20,\n",
    "    width_shift_range=0.2,\n",
    "    height_shift_range=0.2,\n",
    "    shear_range=0.2,\n",
    "    zoom_range=0.2,\n",
    "    horizontal_flip=True,\n",
    "    fill_mode='constant',\n",
    "    cval=0\n",
    ")"
   ]
  },
  {
   "cell_type": "code",
   "execution_count": 6,
   "metadata": {},
   "outputs": [
    {
     "name": "stdout",
     "output_type": "stream",
     "text": [
      "Found 12 validated image filenames.\n",
      "Image labels saved to augmented_images/image_labels.csv\n"
     ]
    }
   ],
   "source": [
    "train_generator = datagen.flow_from_dataframe(\n",
    "    dataframe=df,\n",
    "    directory='NeedsRespray/images',\n",
    "    x_col='Filename',\n",
    "    y_col='Needs Respray',\n",
    "    class_mode='raw',\n",
    "    batch_size=32,\n",
    "    shuffle=False,      # do not shuffle while each iteration generate augmented data\n",
    ")\n",
    "\n",
    "save_dir = 'augmented_images/'\n",
    "\n",
    "if not os.path.exists(save_dir):\n",
    "    os.makedirs(save_dir)\n",
    "\n",
    "image_label_pairs = []\n",
    "\n",
    "for i in range(10):  \n",
    "    imgs, labels = next(train_generator)  \n",
    "    for j, (img, label) in enumerate(zip(imgs, labels)):\n",
    "        filename = f\"aug_{i}_{j}.png\"\n",
    "        filepath = os.path.join(save_dir, filename)\n",
    "        plt.imsave(filepath, img)\n",
    "        image_label_pairs.append({'filename': filename, 'label': label})\n",
    "\n",
    "df_image_labels = pd.DataFrame(image_label_pairs)\n",
    "\n",
    "csv_filepath = os.path.join(save_dir, 'image_labels.csv')\n",
    "df_image_labels.to_csv(csv_filepath, index=False)\n",
    "\n",
    "print(f\"Image labels saved to {csv_filepath}\")"
   ]
  }
 ],
 "metadata": {
  "kernelspec": {
   "display_name": "venv",
   "language": "python",
   "name": "python3"
  },
  "language_info": {
   "codemirror_mode": {
    "name": "ipython",
    "version": 3
   },
   "file_extension": ".py",
   "mimetype": "text/x-python",
   "name": "python",
   "nbconvert_exporter": "python",
   "pygments_lexer": "ipython3",
   "version": "3.11.8"
  }
 },
 "nbformat": 4,
 "nbformat_minor": 2
}
